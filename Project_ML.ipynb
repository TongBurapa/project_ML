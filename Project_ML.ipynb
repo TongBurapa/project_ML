{
  "nbformat": 4,
  "nbformat_minor": 0,
  "metadata": {
    "colab": {
      "name": "Project ML.ipynb",
      "provenance": [],
      "collapsed_sections": []
    },
    "kernelspec": {
      "name": "python3",
      "display_name": "Python 3"
    },
    "accelerator": "GPU"
  },
  "cells": [
    {
      "cell_type": "markdown",
      "metadata": {
        "id": "BUsj6jVf9KC-",
        "colab_type": "text"
      },
      "source": [
        "# Indoor & Outdoor Scene Recognition"
      ]
    },
    {
      "cell_type": "markdown",
      "metadata": {
        "id": "jZIDiEX18Z5C",
        "colab_type": "text"
      },
      "source": [
        "# Loading Dataset from GitHub"
      ]
    },
    {
      "cell_type": "code",
      "metadata": {
        "id": "4k6GC0ELBQWo",
        "colab_type": "code",
        "cellView": "code",
        "colab": {
          "base_uri": "https://localhost:8080/",
          "height": 136
        },
        "outputId": "736d7df0-4310-48cd-c5b6-f423bde36ad2"
      },
      "source": [
        "!git clone https://github.com/ctkzsama/project_ML.git\n",
        "!pip install opencv-contrib-python          "
      ],
      "execution_count": 44,
      "outputs": [
        {
          "output_type": "stream",
          "text": [
            "Cloning into 'project_ML'...\n",
            "remote: Enumerating objects: 1864, done.\u001b[K\n",
            "remote: Total 1864 (delta 0), reused 0 (delta 0), pack-reused 1864\u001b[K\n",
            "Receiving objects: 100% (1864/1864), 514.59 MiB | 11.31 MiB/s, done.\n",
            "Checking out files: 100% (1868/1868), done.\n",
            "Requirement already satisfied: opencv-contrib-python in /usr/local/lib/python3.6/dist-packages (3.4.3.18)\n",
            "Requirement already satisfied: numpy>=1.11.3 in /usr/local/lib/python3.6/dist-packages (from opencv-contrib-python) (1.17.3)\n"
          ],
          "name": "stdout"
        }
      ]
    },
    {
      "cell_type": "code",
      "metadata": {
        "id": "2_goEtnlBbLn",
        "colab_type": "code",
        "colab": {
          "base_uri": "https://localhost:8080/",
          "height": 102
        },
        "outputId": "2e003a82-aa25-43bc-9f08-27af7d74e2f6"
      },
      "source": [
        "import cv2\n",
        "import os\n",
        "import numpy as np\n",
        "import pandas as pd\n",
        "from scipy import interp\n",
        "from itertools import cycle\n",
        "from keras.preprocessing import image\n",
        "from sklearn.model_selection import train_test_split\n",
        "import matplotlib.pyplot as plt\n",
        "import tensorflow as tf\n",
        "\n",
        "folders = ['project_ML/Images/bedroom',\n",
        "'project_ML/Images/bathroom',\n",
        "'project_ML/Images/dining_room',\n",
        "'project_ML/Images/kitchen']\n",
        "sess = tf.Session()\n",
        "images = []\n",
        "labels = []\n",
        "room_label = []\n",
        "def load_image_from_folder(folder):\n",
        "    print(folder)\n",
        "    room_label.append(folder.split(os.path.sep)[-1])\n",
        "    for filename in os.listdir(folder):\n",
        "        try:\n",
        "            img = cv2.imread(os.path.join(folder, filename))\n",
        "            img = cv2.resize(img, (300,300))\n",
        "            img = image.img_to_array(img)\n",
        "            label = folder.split(os.path.sep)[-1]\n",
        "            labels.append(label)\n",
        "            images.append(img)\n",
        "           \n",
        "        except:\n",
        "       \n",
        "            continue\n",
        "\n",
        "for folder in folders:\n",
        "    load_image_from_folder(folder)\n",
        "x = np.array(images)/255\n",
        "y = np.array(labels)\n",
        "print(room_label)"
      ],
      "execution_count": 45,
      "outputs": [
        {
          "output_type": "stream",
          "text": [
            "project_ML/Images/bedroom\n",
            "project_ML/Images/bathroom\n",
            "project_ML/Images/dining_room\n",
            "project_ML/Images/kitchen\n",
            "['bedroom', 'bathroom', 'dining_room', 'kitchen']\n"
          ],
          "name": "stdout"
        }
      ]
    },
    {
      "cell_type": "code",
      "metadata": {
        "id": "ruPSUGKuSP2u",
        "colab_type": "code",
        "colab": {
          "base_uri": "https://localhost:8080/",
          "height": 241
        },
        "outputId": "36e2b0e9-2539-4c1e-a2aa-e73884e669c4"
      },
      "source": [
        "from sklearn.preprocessing import LabelEncoder, OneHotEncoder \n",
        "# integer encode\n",
        "label_encoder = LabelEncoder()\n",
        "integer_encoded = label_encoder.fit_transform(y)\n",
        "print(integer_encoded)\n",
        "# binary encode\n",
        "onehot_encoder = OneHotEncoder(sparse=False)\n",
        "integer_encoded = integer_encoded.reshape(len(integer_encoded), 1)\n",
        "onehot_encoded = onehot_encoder.fit_transform(integer_encoded)\n",
        "y = np.array(onehot_encoded) \n",
        "print(y)"
      ],
      "execution_count": 46,
      "outputs": [
        {
          "output_type": "stream",
          "text": [
            "[1 1 1 ... 3 3 3]\n",
            "[[0. 1. 0. 0.]\n",
            " [0. 1. 0. 0.]\n",
            " [0. 1. 0. 0.]\n",
            " ...\n",
            " [0. 0. 0. 1.]\n",
            " [0. 0. 0. 1.]\n",
            " [0. 0. 0. 1.]]\n"
          ],
          "name": "stdout"
        },
        {
          "output_type": "stream",
          "text": [
            "/usr/local/lib/python3.6/dist-packages/sklearn/preprocessing/_encoders.py:415: FutureWarning: The handling of integer data will change in version 0.22. Currently, the categories are determined based on the range [0, max(values)], while in the future they will be determined based on the unique values.\n",
            "If you want the future behaviour and silence this warning, you can specify \"categories='auto'\".\n",
            "In case you used a LabelEncoder before this OneHotEncoder to convert the categories to integers, then you can now use the OneHotEncoder directly.\n",
            "  warnings.warn(msg, FutureWarning)\n"
          ],
          "name": "stderr"
        }
      ]
    },
    {
      "cell_type": "markdown",
      "metadata": {
        "id": "hkbQAlJk8vgF",
        "colab_type": "text"
      },
      "source": [
        "# Random sampling (train_test_split)"
      ]
    },
    {
      "cell_type": "code",
      "metadata": {
        "id": "WM261A3ESxis",
        "colab_type": "code",
        "colab": {
          "base_uri": "https://localhost:8080/",
          "height": 85
        },
        "outputId": "d9cff3e7-cccc-49f8-daa7-315e6647e141"
      },
      "source": [
        "from sklearn.model_selection import train_test_split\n",
        "(x_train, x_test, y_train, y_test) = train_test_split(x, y, test_size=0.15, random_state=42)\n",
        "\n",
        "print(\"x_train shape = \", x_train.shape)\n",
        "print(\"y_train shape = \",y_train.shape)\n",
        "print(\"x_test shape = \",x_test.shape)\n",
        "print(\"y_test shape = \",y_test.shape)\n"
      ],
      "execution_count": 47,
      "outputs": [
        {
          "output_type": "stream",
          "text": [
            "x_train shape =  (1586, 300, 300, 3)\n",
            "y_train shape =  (1586, 4)\n",
            "x_test shape =  (280, 300, 300, 3)\n",
            "y_test shape =  (280, 4)\n"
          ],
          "name": "stdout"
        }
      ]
    },
    {
      "cell_type": "markdown",
      "metadata": {
        "id": "w6_12L7M7_r1",
        "colab_type": "text"
      },
      "source": [
        "# Convolution Definition"
      ]
    },
    {
      "cell_type": "code",
      "metadata": {
        "id": "qR-Gk3FmS07P",
        "colab_type": "code",
        "colab": {
          "base_uri": "https://localhost:8080/",
          "height": 1000
        },
        "outputId": "816cfbfa-0bed-4623-fd4d-bcb629d7d3c7"
      },
      "source": [
        "#Convolution-NN\n",
        "from keras.models import Sequential\n",
        "from keras.layers import Conv2D, MaxPooling2D, Activation\n",
        "from keras.layers import Flatten, Dense\n",
        "from keras.layers import BatchNormalization\n",
        "\n",
        "cnn = Sequential()\n",
        "\n",
        "cnn.add(Conv2D(16, (3, 3), input_shape=(300,300,3), activation='relu'))\n",
        "cnn.add(MaxPooling2D(pool_size = (3, 3)))\n",
        "cnn.add(Activation('relu'))\n",
        "\n",
        "\n",
        "cnn.add(Conv2D(32, (3, 3) ,activation='relu'))\n",
        "cnn.add(MaxPooling2D(pool_size = (3, 3)))\n",
        "\n",
        "\n",
        "cnn.add(Conv2D(64, (3, 3) ,activation='relu'))\n",
        "cnn.add(MaxPooling2D(pool_size = (3, 3)))\n",
        "\n",
        "cnn.add(Conv2D(64, (3, 3) ,activation='relu'))\n",
        "cnn.add(Conv2D(64, (3, 3) ,activation='relu'))\n",
        "cnn.add(MaxPooling2D(pool_size = (3, 3)))\n",
        "\n",
        "\n",
        "cnn.add(Flatten())\n",
        "cnn.add(Dense(150, activation='relu'))\n",
        "cnn.add(Dense(80, activation='relu'))\n",
        "cnn.add(Dense(4, activation='softmax'))\n",
        "\n",
        "cnn.compile(loss='categorical_crossentropy', metrics=['accuracy'], optimizer='adam')\n",
        "print(cnn.summary())\n",
        "\n",
        "\n",
        "history = cnn.fit(x_train, y_train, epochs=25, batch_size=32)\n",
        "plt.plot(history.history['loss'])\n",
        "plt.title('MLP model loss')\n",
        "plt.ylabel('loss')\n",
        "plt.xlabel('epoch')\n",
        "plt.show()"
      ],
      "execution_count": 49,
      "outputs": [
        {
          "output_type": "stream",
          "text": [
            "Model: \"sequential_7\"\n",
            "_________________________________________________________________\n",
            "Layer (type)                 Output Shape              Param #   \n",
            "=================================================================\n",
            "conv2d_31 (Conv2D)           (None, 298, 298, 16)      448       \n",
            "_________________________________________________________________\n",
            "max_pooling2d_25 (MaxPooling (None, 99, 99, 16)        0         \n",
            "_________________________________________________________________\n",
            "activation_7 (Activation)    (None, 99, 99, 16)        0         \n",
            "_________________________________________________________________\n",
            "conv2d_32 (Conv2D)           (None, 97, 97, 32)        4640      \n",
            "_________________________________________________________________\n",
            "max_pooling2d_26 (MaxPooling (None, 32, 32, 32)        0         \n",
            "_________________________________________________________________\n",
            "conv2d_33 (Conv2D)           (None, 30, 30, 64)        18496     \n",
            "_________________________________________________________________\n",
            "max_pooling2d_27 (MaxPooling (None, 10, 10, 64)        0         \n",
            "_________________________________________________________________\n",
            "conv2d_34 (Conv2D)           (None, 8, 8, 64)          36928     \n",
            "_________________________________________________________________\n",
            "conv2d_35 (Conv2D)           (None, 6, 6, 64)          36928     \n",
            "_________________________________________________________________\n",
            "max_pooling2d_28 (MaxPooling (None, 2, 2, 64)          0         \n",
            "_________________________________________________________________\n",
            "flatten_7 (Flatten)          (None, 256)               0         \n",
            "_________________________________________________________________\n",
            "dense_19 (Dense)             (None, 150)               38550     \n",
            "_________________________________________________________________\n",
            "dense_20 (Dense)             (None, 80)                12080     \n",
            "_________________________________________________________________\n",
            "dense_21 (Dense)             (None, 4)                 324       \n",
            "=================================================================\n",
            "Total params: 148,394\n",
            "Trainable params: 148,394\n",
            "Non-trainable params: 0\n",
            "_________________________________________________________________\n",
            "None\n",
            "Epoch 1/25\n",
            "1586/1586 [==============================] - 5s 3ms/step - loss: 1.2843 - acc: 0.3960\n",
            "Epoch 2/25\n",
            "1586/1586 [==============================] - 4s 3ms/step - loss: 1.2554 - acc: 0.3941\n",
            "Epoch 3/25\n",
            "1586/1586 [==============================] - 4s 3ms/step - loss: 1.2312 - acc: 0.4515\n",
            "Epoch 4/25\n",
            "1586/1586 [==============================] - 4s 3ms/step - loss: 1.1609 - acc: 0.4660\n",
            "Epoch 5/25\n",
            "1586/1586 [==============================] - 4s 3ms/step - loss: 1.1178 - acc: 0.4874\n",
            "Epoch 6/25\n",
            "1586/1586 [==============================] - 4s 3ms/step - loss: 1.0657 - acc: 0.5397\n",
            "Epoch 7/25\n",
            "1586/1586 [==============================] - 4s 3ms/step - loss: 1.0390 - acc: 0.5593\n",
            "Epoch 8/25\n",
            "1586/1586 [==============================] - 4s 3ms/step - loss: 1.0065 - acc: 0.5694\n",
            "Epoch 9/25\n",
            "1586/1586 [==============================] - 4s 3ms/step - loss: 0.9317 - acc: 0.6015\n",
            "Epoch 10/25\n",
            "1586/1586 [==============================] - 4s 3ms/step - loss: 0.9155 - acc: 0.6129\n",
            "Epoch 11/25\n",
            "1586/1586 [==============================] - 4s 3ms/step - loss: 0.8470 - acc: 0.6658\n",
            "Epoch 12/25\n",
            "1586/1586 [==============================] - 4s 3ms/step - loss: 0.7876 - acc: 0.6910\n",
            "Epoch 13/25\n",
            "1586/1586 [==============================] - 4s 3ms/step - loss: 0.7730 - acc: 0.6974\n",
            "Epoch 14/25\n",
            "1586/1586 [==============================] - 4s 3ms/step - loss: 0.6796 - acc: 0.7459\n",
            "Epoch 15/25\n",
            "1586/1586 [==============================] - 4s 3ms/step - loss: 0.6161 - acc: 0.7654\n",
            "Epoch 16/25\n",
            "1586/1586 [==============================] - 4s 3ms/step - loss: 0.5493 - acc: 0.7907\n",
            "Epoch 17/25\n",
            "1586/1586 [==============================] - 4s 3ms/step - loss: 0.4909 - acc: 0.8235\n",
            "Epoch 18/25\n",
            "1586/1586 [==============================] - 4s 3ms/step - loss: 0.4275 - acc: 0.8386\n",
            "Epoch 19/25\n",
            "1586/1586 [==============================] - 4s 3ms/step - loss: 0.3130 - acc: 0.8922\n",
            "Epoch 20/25\n",
            "1586/1586 [==============================] - 4s 3ms/step - loss: 0.2558 - acc: 0.9061\n",
            "Epoch 21/25\n",
            "1586/1586 [==============================] - 4s 3ms/step - loss: 0.2285 - acc: 0.9206\n",
            "Epoch 22/25\n",
            "1586/1586 [==============================] - 4s 3ms/step - loss: 0.1893 - acc: 0.9420\n",
            "Epoch 23/25\n",
            "1586/1586 [==============================] - 4s 3ms/step - loss: 0.1426 - acc: 0.9559\n",
            "Epoch 24/25\n",
            "1586/1586 [==============================] - 4s 3ms/step - loss: 0.0979 - acc: 0.9741\n",
            "Epoch 25/25\n",
            "1586/1586 [==============================] - 4s 3ms/step - loss: 0.0529 - acc: 0.9905\n"
          ],
          "name": "stdout"
        },
        {
          "output_type": "display_data",
          "data": {
            "image/png": "[encoded data removed]",
            "text/plain": [
              "<Figure size 432x288 with 1 Axes>"
            ]
          },
          "metadata": {
            "tags": []
          }
        }
      ]
    },
    {
      "cell_type": "code",
      "metadata": {
        "id": "jy_9tEeVUotM",
        "colab_type": "code",
        "colab": {}
      },
      "source": [
        "#Test Image\n",
        "result = cnn.predict_classes(x_test, batch_size=32, verbose=0)\n"
      ],
      "execution_count": 0,
      "outputs": []
    },
    {
      "cell_type": "markdown",
      "metadata": {
        "id": "ObmoKqwQ7DfH",
        "colab_type": "text"
      },
      "source": [
        "**CNN Evaluate**\n"
      ]
    },
    {
      "cell_type": "code",
      "metadata": {
        "id": "IKTVIt31ZQNw",
        "colab_type": "code",
        "colab": {
          "base_uri": "https://localhost:8080/",
          "height": 68
        },
        "outputId": "1a86642a-3fd4-44ac-cd0b-b061e3cca2d0"
      },
      "source": [
        "score = cnn.evaluate(x_test, y_test, verbose=0)\n",
        "print(cnn.metrics_names)\n",
        "print(score)\n",
        "print(\"Accuracy = %.2f %%\" % (score[1]*100))"
      ],
      "execution_count": 52,
      "outputs": [
        {
          "output_type": "stream",
          "text": [
            "['loss', 'acc']\n",
            "[1.606711426803044, 0.6750000017029899]\n",
            "Accuracy = 67.50 %\n"
          ],
          "name": "stdout"
        }
      ]
    },
    {
      "cell_type": "markdown",
      "metadata": {
        "id": "sLsaM1Eb8PHe",
        "colab_type": "text"
      },
      "source": [
        "# ROC Curve"
      ]
    },
    {
      "cell_type": "code",
      "metadata": {
        "id": "BUiEdEGK7TMY",
        "colab_type": "code",
        "colab": {
          "base_uri": "https://localhost:8080/",
          "height": 401
        },
        "outputId": "48534145-9027-4b10-8ac8-f1e4ebfc2b38"
      },
      "source": [
        "# ROC Curve \n",
        "from sklearn.metrics import roc_curve,auc\n",
        "n_classes=4\n",
        "pred1=cnn.predict(x_test)\n",
        "room_label = list(room_label)\n",
        "fpr = dict()\n",
        "tpr = dict()\n",
        "roc_auc = dict()\n",
        "print(result[:10])\n",
        "actual = []\n",
        "for i in range(len(y_test)):\n",
        "    for j in range(n_classes):\n",
        "        if y_test[i][j] == 1:\n",
        "            actual.append(j)\n",
        "actual = np.array(actual)\n",
        "print(np.shape(actual))\n",
        "print(np.shape(pred1))\n",
        "\n",
        "for i in range(n_classes):\n",
        "    fpr[i], tpr[i], _ = roc_curve(np.array(pd.get_dummies(actual))[:, i], np.array(pd.get_dummies(result))[:, i])\n",
        "    roc_auc[i] = auc(fpr[i], tpr[i])\n",
        "\n",
        "\n",
        "all_fpr = np.unique(np.concatenate([fpr[i] for i in range(n_classes)]))\n",
        "\n",
        "mean_tpr = np.zeros_like(all_fpr)\n",
        "for i in range(n_classes):\n",
        "    mean_tpr += interp(all_fpr, fpr[i], tpr[i])\n",
        "\n",
        "mean_tpr /= n_classes\n",
        "\n",
        "fpr[\"macro\"] = all_fpr\n",
        "tpr[\"macro\"] = mean_tpr\n",
        "roc_auc[\"macro\"] = auc(fpr[\"macro\"], tpr[\"macro\"])\n",
        "\n",
        "lw=2\n",
        "plt.figure(figsize=(8,5))\n",
        "plt.plot(fpr[\"macro\"], tpr[\"macro\"],\n",
        "         label='Average ROC curve (area = {0:0.2f})'\n",
        "               ''.format(roc_auc[\"macro\"]),\n",
        "         color='green', linestyle=':', linewidth=4)\n",
        "\n",
        "colors = cycle(['black', 'darkorange', 'cornflowerblue', 'blue', 'yellow'])\n",
        "\n",
        "for i, color in zip(range(n_classes), colors):\n",
        "        \n",
        "    plt.plot(fpr[i], tpr[i], color=color, lw=lw,\n",
        "             label='ROC curve of class {0} (area = {1:0.2f})'\n",
        "             ''.format(room_label[i], roc_auc[i]))\n",
        "\n",
        "plt.plot([0, 1], [0, 1], 'k--',color='red', lw=lw)\n",
        "plt.xlim([0.0, 1.0])\n",
        "plt.ylim([0.0, 1.05])\n",
        "plt.annotate('Random Guess',(.55,.48),color='red')\n",
        "plt.xlabel('False Positive Rate (FPR)')\n",
        "plt.ylabel('True Positive Rate (TPR)')\n",
        "plt.title('Convolution Evaluation (ROC Curve) - Room Classifier')\n",
        "plt.legend(loc=\"lower right\")\n",
        "plt.show()\n"
      ],
      "execution_count": 53,
      "outputs": [
        {
          "output_type": "stream",
          "text": [
            "[3 2 1 1 3 3 1 1 1 3]\n",
            "(280,)\n",
            "(280, 4)\n"
          ],
          "name": "stdout"
        },
        {
          "output_type": "display_data",
          "data": {
            "image/png": "[encoded data removed]",
            "text/plain": [
              "<Figure size 576x360 with 1 Axes>"
            ]
          },
          "metadata": {
            "tags": []
          }
        }
      ]
    },
    {
      "cell_type": "markdown",
      "metadata": {
        "id": "hy8HjkcNAsFL",
        "colab_type": "text"
      },
      "source": [
        "# Test Image with Matplotlib"
      ]
    },
    {
      "cell_type": "code",
      "metadata": {
        "id": "ECF8aciRujak",
        "colab_type": "code",
        "colab": {
          "base_uri": "https://localhost:8080/",
          "height": 530
        },
        "outputId": "9250eecc-a85a-42c4-bb07-2809ca0295c3"
      },
      "source": [
        "import matplotlib.pyplot as plt\n",
        "import numpy as np\n",
        "a = np.random.randint(1200,size=10)\n",
        "test = np.concatenate(integer_encoded)\n",
        "\n",
        "#print(a)\n",
        "#print('Example training images and their labels: ') \n",
        "#print(a)\n",
        "\n",
        "print('Predicted Class for the labels: ')\n",
        "\n",
        "f, axarr = plt.subplots(1, 10)\n",
        "f.set_size_inches(30,30)\n",
        "\n",
        "for i in range(10):\n",
        "   # print(a[i])\n",
        "    print(\"Image Test #\", i+1, \"is\", room_label[test[a[i]]])\n",
        "    pic = images[a[i]]*255\n",
        "    axarr[i].axis(\"off\")\n",
        "    axarr[i].imshow(pic)\n",
        "plt.show()"
      ],
      "execution_count": 54,
      "outputs": [
        {
          "output_type": "stream",
          "text": [
            "Predicted Class for the labels: \n"
          ],
          "name": "stdout"
        },
        {
          "output_type": "stream",
          "text": [
            "Clipping input data to the valid range for imshow with RGB data ([0..1] for floats or [0..255] for integers).\n",
            "Clipping input data to the valid range for imshow with RGB data ([0..1] for floats or [0..255] for integers).\n",
            "Clipping input data to the valid range for imshow with RGB data ([0..1] for floats or [0..255] for integers).\n",
            "Clipping input data to the valid range for imshow with RGB data ([0..1] for floats or [0..255] for integers).\n",
            "Clipping input data to the valid range for imshow with RGB data ([0..1] for floats or [0..255] for integers).\n",
            "Clipping input data to the valid range for imshow with RGB data ([0..1] for floats or [0..255] for integers).\n",
            "Clipping input data to the valid range for imshow with RGB data ([0..1] for floats or [0..255] for integers).\n",
            "Clipping input data to the valid range for imshow with RGB data ([0..1] for floats or [0..255] for integers).\n",
            "Clipping input data to the valid range for imshow with RGB data ([0..1] for floats or [0..255] for integers).\n",
            "Clipping input data to the valid range for imshow with RGB data ([0..1] for floats or [0..255] for integers).\n"
          ],
          "name": "stderr"
        },
        {
          "output_type": "stream",
          "text": [
            "Image Test # 1 is bathroom\n",
            "Image Test # 2 is bathroom\n",
            "Image Test # 3 is kitchen\n",
            "Image Test # 4 is bedroom\n",
            "Image Test # 5 is kitchen\n",
            "Image Test # 6 is bathroom\n",
            "Image Test # 7 is bedroom\n",
            "Image Test # 8 is bathroom\n",
            "Image Test # 9 is bathroom\n",
            "Image Test # 10 is bathroom\n"
          ],
          "name": "stdout"
        },
        {
          "output_type": "display_data",
          "data": {
            "image/png": "[encoded data removed]",
            "text/plain": [
              "<Figure size 2160x2160 with 10 Axes>"
            ]
          },
          "metadata": {
            "tags": []
          }
        }
      ]
    }
  ]
}